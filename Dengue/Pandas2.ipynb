{
 "cells": [
  {
   "cell_type": "code",
   "execution_count": 1,
   "id": "3d5f9eb4-b97c-417d-8f25-f8e86e8ef082",
   "metadata": {},
   "outputs": [],
   "source": [
    "import pandas as pd \n",
    "import numpy as np\n",
    "import matplotlib.pyplot as plt"
   ]
  },
  {
   "cell_type": "code",
   "execution_count": 3,
   "id": "48a7c945-61f1-4ffb-acb2-e475db33eff5",
   "metadata": {},
   "outputs": [],
   "source": [
    "file_path = 'dengue_data1.csv'\n",
    "split_index = 143"
   ]
  },
  {
   "cell_type": "code",
   "execution_count": 5,
   "id": "a3e7f208-e7f6-4968-8cb6-2c43884bde4c",
   "metadata": {},
   "outputs": [],
   "source": [
    "data = pd.read_csv(file_path)"
   ]
  },
  {
   "cell_type": "code",
   "execution_count": 7,
   "id": "41e3f383-a883-4bbf-8b1e-2a536663a473",
   "metadata": {},
   "outputs": [],
   "source": [
    "features = ['pr', 'pr_1', 'tas', 'tas_1', 'tasmax', 'tasmax_1', 'tasmin', 'tasmin_1', \n",
    "            'deltemp', 'deltemp_1', 'dengue_befor', 'dengue_befor_1']\n",
    "X = data[features]\n",
    "y = data['dengue_incidence']\n",
    "\n",
    "X_train, X_test = X[:split_index], X[split_index:]\n",
    "y_train, y_test = y[:split_index], y[split_index:]"
   ]
  },
  {
   "cell_type": "code",
   "execution_count": 9,
   "id": "4e9bb86c-78a0-4c83-b531-facae3c52009",
   "metadata": {},
   "outputs": [],
   "source": [
    "param_grid = {\n",
    "    'n_estimators': [6],\n",
    "    'max_depth': [100],\n",
    "    'min_samples_split': [2],\n",
    "    'min_samples_leaf': [1],\n",
    "    'max_features': [1, 'sqrt']\n",
    "}"
   ]
  },
  {
   "cell_type": "code",
   "execution_count": 11,
   "id": "38cd4f15-8d98-49b5-8599-6400dc613ed2",
   "metadata": {},
   "outputs": [],
   "source": [
    "# Description: This dictionary defines the hyperparameters and their possible values\n",
    "# for the Random Forest model. These will be used in the GridSearchCV to find the best model.\n",
    "\n",
    "# Function to train and evaluate model\n",
    "def train_and_evaluate_model(X_train, y_train, X_test, y_test, param_grid):\n",
    "    rf = RandomForestRegressor()\n",
    "    grid_search = GridSearchCV(estimator=rf, param_grid=param_grid, cv=5, n_jobs=-1, \n",
    "                               scoring='neg_mean_absolute_percentage_error')\n",
    "    grid_search.fit(X_train, y_train)\n",
    "    \n",
    "    best_model = grid_search.best_estimator_\n",
    "    predictions = best_model.predict(X_test)\n",
    "    r2 = r2_score(y_test, predictions)\n",
    "    mae = mean_absolute_error(y_test, predictions)\n",
    "    \n",
    "    return grid_search, r2, mae"
   ]
  },
  {
   "cell_type": "code",
   "execution_count": null,
   "id": "7850ea2f-eebc-4450-8a25-a3b928fa3a3c",
   "metadata": {},
   "outputs": [],
   "source": [
    "# Description: This function encapsulates the process of training a Random Forest model\n",
    "# using GridSearchCV for hyperparameter tuning, and evaluating its performance.\n",
    "# It returns the trained model, R-squared score, and Mean Absolute Error.\n",
    "\n",
    "# Initialize best scores\n",
    "r2_best, mae_best = -np.inf, np.inf\n",
    "\n"
   ]
  },
  {
   "cell_type": "code",
   "execution_count": 10,
   "id": "52020e56-4e05-478c-b68a-496c3c8845f5",
   "metadata": {},
   "outputs": [
    {
     "ename": "NameError",
     "evalue": "name 'y_true' is not defined",
     "output_type": "error",
     "traceback": [
      "\u001b[1;31m---------------------------------------------------------------------------\u001b[0m",
      "\u001b[1;31mNameError\u001b[0m                                 Traceback (most recent call last)",
      "Cell \u001b[1;32mIn[10], line 3\u001b[0m\n\u001b[0;32m      1\u001b[0m \u001b[38;5;28;01mdef\u001b[39;00m \u001b[38;5;21mr_squared\u001b[39m(y_true, y_pred):\n\u001b[0;32m      2\u001b[0m \u001b[38;5;250m     \u001b[39m\u001b[38;5;124;03m\"\"\"Compute the R-squared value for two arrays of data.\"\"\"\u001b[39;00m\n\u001b[1;32m----> 3\u001b[0m y_true \u001b[38;5;241m=\u001b[39m np\u001b[38;5;241m.\u001b[39marray(\u001b[43my_true\u001b[49m)\n\u001b[0;32m      4\u001b[0m y_pred \u001b[38;5;241m=\u001b[39m np\u001b[38;5;241m.\u001b[39marray(y_pred)\n\u001b[0;32m      5\u001b[0m y_pred_sum \u001b[38;5;241m=\u001b[39m np\u001b[38;5;241m.\u001b[39msum((y_pred\u001b[38;5;241m-\u001b[39mnp\u001b[38;5;241m.\u001b[39mmean(y_pred))\u001b[38;5;241m*\u001b[39m(y_true\u001b[38;5;241m-\u001b[39mnp\u001b[38;5;241m.\u001b[39mmean(y_true)))\n",
      "\u001b[1;31mNameError\u001b[0m: name 'y_true' is not defined"
     ]
    }
   ],
   "source": [
    "def r_squared(y_true, y_pred):\n",
    "     \"\"\"Compute the R-squared value for two arrays of data.\"\"\"\n",
    "y_true = np.array(y_true)\n",
    "y_pred = np.array(y_pred)\n",
    "y_pred_sum = np.sum((y_pred-np.mean(y_pred))*(y_true-np.mean(y_true)))\n",
    "ss_res = (np.sum((y_pred - np.mean(y_pred)) ** 2) * np.sum((y_true - np.mean(y_true)) ** 2))**0.5\n",
    "return (y_pred_sum/ss_res)**2"
   ]
  },
  {
   "cell_type": "code",
   "execution_count": null,
   "id": "acdd377d-baad-4259-bcf6-cad37235c065",
   "metadata": {},
   "outputs": [],
   "source": []
  },
  {
   "cell_type": "code",
   "execution_count": null,
   "id": "585aaed5-1a16-4ec0-9daa-3dd460dcc08d",
   "metadata": {},
   "outputs": [],
   "source": []
  }
 ],
 "metadata": {
  "kernelspec": {
   "display_name": "Python 3 (ipykernel)",
   "language": "python",
   "name": "python3"
  },
  "language_info": {
   "codemirror_mode": {
    "name": "ipython",
    "version": 3
   },
   "file_extension": ".py",
   "mimetype": "text/x-python",
   "name": "python",
   "nbconvert_exporter": "python",
   "pygments_lexer": "ipython3",
   "version": "3.11.9"
  }
 },
 "nbformat": 4,
 "nbformat_minor": 5
}
