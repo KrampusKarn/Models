{
 "cells": [
  {
   "cell_type": "code",
   "execution_count": 1,
   "id": "3d5f9eb4-b97c-417d-8f25-f8e86e8ef082",
   "metadata": {},
   "outputs": [],
   "source": [
    "import pandas as pd \n",
    "import numpy as np\n",
    "import matplotlib.pyplot as plt\n",
    "import os\n",
    "from datetime import datetime\n",
    "from sklearn.model_selection import GridSearchCV\n",
    "from sklearn.ensemble import RandomForestRegressor\n",
    "from sklearn.metrics import mean_absolute_error\n",
    "import joblib"
   ]
  },
  {
   "cell_type": "code",
   "execution_count": 3,
   "id": "48a7c945-61f1-4ffb-acb2-e475db33eff5",
   "metadata": {},
   "outputs": [],
   "source": [
    "file_path = 'dengue_data1.csv'\n",
    "split_index = 143"
   ]
  },
  {
   "cell_type": "code",
   "execution_count": 5,
   "id": "a3e7f208-e7f6-4968-8cb6-2c43884bde4c",
   "metadata": {},
   "outputs": [],
   "source": [
    "data = pd.read_csv(file_path)"
   ]
  },
  {
   "cell_type": "code",
   "execution_count": 7,
   "id": "41e3f383-a883-4bbf-8b1e-2a536663a473",
   "metadata": {},
   "outputs": [],
   "source": [
    "features = ['pr', 'pr_1', 'tas', 'tas_1', 'tasmax', 'tasmax_1', 'tasmin', 'tasmin_1', \n",
    "            'deltemp', 'deltemp_1', 'dengue_befor', 'dengue_befor_1']\n",
    "X = data[features]\n",
    "y = data['dengue_incidence']\n",
    "\n",
    "X_train, X_test = X[:split_index], X[split_index:]\n",
    "y_train, y_test = y[:split_index], y[split_index:]"
   ]
  },
  {
   "cell_type": "code",
   "execution_count": 9,
   "id": "4e9bb86c-78a0-4c83-b531-facae3c52009",
   "metadata": {},
   "outputs": [],
   "source": [
    "param_grid = {\n",
    "    'n_estimators': [6],\n",
    "    'max_depth': [100],\n",
    "    'min_samples_split': [2],\n",
    "    'min_samples_leaf': [1],\n",
    "    'max_features': [1, 'sqrt']\n",
    "}"
   ]
  },
  {
   "cell_type": "code",
   "execution_count": 11,
   "id": "52020e56-4e05-478c-b68a-496c3c8845f5",
   "metadata": {},
   "outputs": [],
   "source": [
    "def r_squared(y_true, y_pred):\n",
    "    \"\"\"Compute the R-squared value for two arrays of data.\"\"\"\n",
    "    y_true = np.array(y_true)\n",
    "    y_pred = np.array(y_pred)\n",
    "    y_pred_sum = np.sum((y_pred-np.mean(y_pred))*(y_true-np.mean(y_true)))\n",
    "    ss_res = (np.sum((y_pred - np.mean(y_pred)) ** 2) * np.sum((y_true - np.mean(y_true)) ** 2))**0.5\n",
    "    return (y_pred_sum/ss_res)**2"
   ]
  },
  {
   "cell_type": "code",
   "execution_count": 13,
   "id": "38cd4f15-8d98-49b5-8599-6400dc613ed2",
   "metadata": {},
   "outputs": [],
   "source": [
    "def train_and_evaluate_model(X_train, y_train, X_test, y_test, param_grid):\n",
    "    rf = RandomForestRegressor()\n",
    "    grid_search = GridSearchCV(estimator=rf, param_grid=param_grid, cv=5, n_jobs=-1, \n",
    "                               scoring='neg_mean_absolute_percentage_error')\n",
    "    grid_search.fit(X_train, y_train)\n",
    "    \n",
    "    best_model = grid_search.best_estimator_\n",
    "    predictions = best_model.predict(X_test)\n",
    "    r2 = r_squared(y_test, predictions)  # Using our custom r_squared function\n",
    "    mae = mean_absolute_error(y_test, predictions)\n",
    "    \n",
    "    return grid_search, r2, mae"
   ]
  },
  {
   "cell_type": "code",
   "execution_count": 15,
   "id": "7850ea2f-eebc-4450-8a25-a3b928fa3a3c",
   "metadata": {},
   "outputs": [],
   "source": [
    "r2_best, mae_best = -np.inf, np.inf\n",
    "iteration = 0\n",
    "\n",
    "# Create a directory to store all results\n",
    "results_dir = f\"dengue_model_results_{datetime.now().strftime('%Y%m%d_%H%M%S')}\"\n",
    "os.makedirs(results_dir, exist_ok=True)"
   ]
  },
  {
   "cell_type": "code",
   "execution_count": 17,
   "id": "3f81317a-f9dc-489d-99de-c2c6bb07dda2",
   "metadata": {
    "scrolled": true
   },
   "outputs": [
    {
     "name": "stdout",
     "output_type": "stream",
     "text": [
      "Iteration 1: R2 = 0.33974948961387397, MAE = 3.692083333333334\n",
      "New model added to top 10. Current best R2 = 0.33974948961387397, MAE = 3.692083333333334\n",
      "Iteration 2: R2 = 0.5009595173376393, MAE = 3.836527777777777\n",
      "New model added to top 10. Current best R2 = 0.5009595173376393, MAE = 3.836527777777777\n",
      "Iteration 3: R2 = 0.2905339892019182, MAE = 2.981145833333333\n",
      "New model added to top 10. Current best R2 = 0.5009595173376393, MAE = 3.836527777777777\n",
      "Iteration 4: R2 = 0.5891233949757807, MAE = 3.911423611111111\n",
      "New model added to top 10. Current best R2 = 0.5891233949757807, MAE = 3.911423611111111\n",
      "Iteration 5: R2 = 0.45622074882898417, MAE = 4.189895833333334\n",
      "New model added to top 10. Current best R2 = 0.5891233949757807, MAE = 3.911423611111111\n",
      "Iteration 6: R2 = 0.350876808075864, MAE = 3.4984375\n",
      "New model added to top 10. Current best R2 = 0.5891233949757807, MAE = 3.911423611111111\n",
      "Iteration 7: R2 = 0.24294853757508952, MAE = 2.9464236111111113\n",
      "New model added to top 10. Current best R2 = 0.5891233949757807, MAE = 3.911423611111111\n",
      "Iteration 8: R2 = 0.4992036505818662, MAE = 3.6328472222222223\n",
      "New model added to top 10. Current best R2 = 0.5891233949757807, MAE = 3.911423611111111\n",
      "Iteration 9: R2 = 0.2384304942258484, MAE = 3.5225347222222223\n",
      "New model added to top 10. Current best R2 = 0.5891233949757807, MAE = 3.911423611111111\n",
      "Iteration 10: R2 = 0.12202678729272183, MAE = 3.6082986111111115\n",
      "New model added to top 10. Current best R2 = 0.5891233949757807, MAE = 3.911423611111111\n",
      "Model 1 saved to dengue_model_results_20241002_042059/best_model_iteration_4.pkl\n",
      "Model 2 saved to dengue_model_results_20241002_042059/best_model_iteration_2.pkl\n",
      "Model 3 saved to dengue_model_results_20241002_042059/best_model_iteration_8.pkl\n",
      "Model 4 saved to dengue_model_results_20241002_042059/best_model_iteration_5.pkl\n",
      "Model 5 saved to dengue_model_results_20241002_042059/best_model_iteration_6.pkl\n",
      "Model 6 saved to dengue_model_results_20241002_042059/best_model_iteration_1.pkl\n",
      "Model 7 saved to dengue_model_results_20241002_042059/best_model_iteration_3.pkl\n",
      "Model 8 saved to dengue_model_results_20241002_042059/best_model_iteration_7.pkl\n",
      "Model 9 saved to dengue_model_results_20241002_042059/best_model_iteration_9.pkl\n",
      "Model 10 saved to dengue_model_results_20241002_042059/best_model_iteration_10.pkl\n",
      "Top 10 models and summaries updated in dengue_model_results_20241002_042059\n"
     ]
    }
   ],
   "source": [
    "best_models = []\n",
    "\n",
    "# Define max iterations\n",
    "max_iterations = 100  # Run exactly 100 iterations\n",
    "\n",
    "iteration = 0\n",
    "\n",
    "# Loop for exactly 100 iterations\n",
    "while iteration < max_iterations:\n",
    "    iteration += 1\n",
    "    model, r2, mae = train_and_evaluate_model(X_train, y_train, X_test, y_test, param_grid)\n",
    "    \n",
    "    print(f\"Iteration {iteration}: R2 = {r2}, MAE = {mae}\")\n",
    "    \n",
    "    # Store each model regardless of performance\n",
    "    best_models.append({\n",
    "        'iteration': iteration,\n",
    "        'model': model.best_estimator_,\n",
    "        'R2': r2,\n",
    "        'MAE': mae,\n",
    "        'best_params': model.best_params_\n",
    "    })\n",
    "    \n",
    "# Sort the models by R² (descending) and MAE (ascending) and select top 10\n",
    "best_models = sorted(best_models, key=lambda x: (-x['R2'], x['MAE']))[:10]\n",
    "\n",
    "# Save the top 10 models to disk\n",
    "for i, best_model in enumerate(best_models):\n",
    "    model_filename = f\"{results_dir}/best_model_iteration_{best_model['iteration']}.pkl\"\n",
    "    joblib.dump(best_model['model'], model_filename)\n",
    "    print(f\"Model {i+1} saved to {model_filename}\")\n",
    "    \n",
    "    # Save summary information (R2, MAE, best parameters) to a DataFrame for each model\n",
    "    summary = pd.DataFrame({\n",
    "        'Iteration': [best_model['iteration']],\n",
    "        'R2': [best_model['R2']],\n",
    "        'MAE': [best_model['MAE']],\n",
    "        'Best_Parameters': [str(best_model['best_params'])]\n",
    "    })\n",
    "    \n",
    "    # Update or create the summary Excel file\n",
    "    summary_filename = f\"{results_dir}/model_summary.xlsx\"\n",
    "    if os.path.exists(summary_filename):\n",
    "        existing_summary = pd.read_excel(summary_filename)\n",
    "        updated_summary = pd.concat([existing_summary, summary], ignore_index=True)\n",
    "        updated_summary.to_excel(summary_filename, index=False)\n",
    "    else:\n",
    "        summary.to_excel(summary_filename, index=False)\n",
    "\n",
    "print(f\"Top 10 models and summaries updated in {results_dir}\")"
   ]
  },
  {
   "cell_type": "code",
   "execution_count": null,
   "id": "acdd377d-baad-4259-bcf6-cad37235c065",
   "metadata": {},
   "outputs": [],
   "source": [
    "print(\"Model training completed.\")\n",
    "print(f\"Best model: R2 = {r2_best}, MAE = {mae_best}\")\n",
    "print(f\"All results saved in directory: {results_dir}\")"
   ]
  },
  {
   "cell_type": "code",
   "execution_count": null,
   "id": "585aaed5-1a16-4ec0-9daa-3dd460dcc08d",
   "metadata": {},
   "outputs": [],
   "source": []
  }
 ],
 "metadata": {
  "kernelspec": {
   "display_name": "Python 3 (ipykernel)",
   "language": "python",
   "name": "python3"
  },
  "language_info": {
   "codemirror_mode": {
    "name": "ipython",
    "version": 3
   },
   "file_extension": ".py",
   "mimetype": "text/x-python",
   "name": "python",
   "nbconvert_exporter": "python",
   "pygments_lexer": "ipython3",
   "version": "3.11.9"
  }
 },
 "nbformat": 4,
 "nbformat_minor": 5
}
